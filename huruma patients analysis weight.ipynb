{
 "cells": [
  {
   "cell_type": "code",
   "execution_count": 24,
   "id": "40f7bfe3",
   "metadata": {},
   "outputs": [],
   "source": [
    "import pandas as pd\n",
    "import numpy as np\n",
    "import seaborn as sns\n",
    "import matplotlib.pyplot as plt"
   ]
  },
  {
   "cell_type": "code",
   "execution_count": 25,
   "id": "cf91ba81",
   "metadata": {},
   "outputs": [
    {
     "data": {
      "text/html": [
       "<div>\n",
       "<style scoped>\n",
       "    .dataframe tbody tr th:only-of-type {\n",
       "        vertical-align: middle;\n",
       "    }\n",
       "\n",
       "    .dataframe tbody tr th {\n",
       "        vertical-align: top;\n",
       "    }\n",
       "\n",
       "    .dataframe thead th {\n",
       "        text-align: right;\n",
       "    }\n",
       "</style>\n",
       "<table border=\"1\" class=\"dataframe\">\n",
       "  <thead>\n",
       "    <tr style=\"text-align: right;\">\n",
       "      <th></th>\n",
       "      <th>NAME</th>\n",
       "      <th>AGE</th>\n",
       "      <th>SEX</th>\n",
       "      <th>WEIGHT</th>\n",
       "      <th>Z_SCORE</th>\n",
       "      <th>HEIGHT</th>\n",
       "      <th>Z_SCORE.1</th>\n",
       "      <th>MUAC</th>\n",
       "    </tr>\n",
       "  </thead>\n",
       "  <tbody>\n",
       "    <tr>\n",
       "      <th>0</th>\n",
       "      <td>Q.P</td>\n",
       "      <td>0.30</td>\n",
       "      <td>M</td>\n",
       "      <td>6.6</td>\n",
       "      <td>5</td>\n",
       "      <td>61.5</td>\n",
       "      <td>3</td>\n",
       "      <td>13.6</td>\n",
       "    </tr>\n",
       "    <tr>\n",
       "      <th>1</th>\n",
       "      <td>J.M</td>\n",
       "      <td>0.30</td>\n",
       "      <td>M</td>\n",
       "      <td>7.9</td>\n",
       "      <td>5</td>\n",
       "      <td>64.0</td>\n",
       "      <td>3</td>\n",
       "      <td>13.7</td>\n",
       "    </tr>\n",
       "    <tr>\n",
       "      <th>2</th>\n",
       "      <td>E.N</td>\n",
       "      <td>0.50</td>\n",
       "      <td>F</td>\n",
       "      <td>6.3</td>\n",
       "      <td>5</td>\n",
       "      <td>62.3</td>\n",
       "      <td>1</td>\n",
       "      <td>14.1</td>\n",
       "    </tr>\n",
       "    <tr>\n",
       "      <th>3</th>\n",
       "      <td>P.A</td>\n",
       "      <td>0.75</td>\n",
       "      <td>F</td>\n",
       "      <td>7.7</td>\n",
       "      <td>5</td>\n",
       "      <td>63.2</td>\n",
       "      <td>3</td>\n",
       "      <td>15.2</td>\n",
       "    </tr>\n",
       "    <tr>\n",
       "      <th>4</th>\n",
       "      <td>D.F</td>\n",
       "      <td>0.25</td>\n",
       "      <td>M</td>\n",
       "      <td>6.8</td>\n",
       "      <td>5</td>\n",
       "      <td>61.3</td>\n",
       "      <td>3</td>\n",
       "      <td>13.5</td>\n",
       "    </tr>\n",
       "  </tbody>\n",
       "</table>\n",
       "</div>"
      ],
      "text/plain": [
       "  NAME   AGE SEX  WEIGHT  Z_SCORE  HEIGHT  Z_SCORE.1  MUAC\n",
       "0  Q.P  0.30   M     6.6        5    61.5          3  13.6\n",
       "1  J.M  0.30   M     7.9        5    64.0          3  13.7\n",
       "2  E.N  0.50   F     6.3        5    62.3          1  14.1\n",
       "3  P.A  0.75   F     7.7        5    63.2          3  15.2\n",
       "4  D.F  0.25   M     6.8        5    61.3          3  13.5"
      ]
     },
     "execution_count": 25,
     "metadata": {},
     "output_type": "execute_result"
    }
   ],
   "source": [
    "#Let us load our data\n",
    "huruma = pd.read_excel(\"D:/Kipchumba/Book1.xlssss.xlsx\")\n",
    "\n",
    "#Viewing our data\n",
    "huruma.head()"
   ]
  },
  {
   "cell_type": "code",
   "execution_count": 27,
   "id": "9cd744bd",
   "metadata": {},
   "outputs": [
    {
     "data": {
      "text/html": [
       "<div>\n",
       "<style scoped>\n",
       "    .dataframe tbody tr th:only-of-type {\n",
       "        vertical-align: middle;\n",
       "    }\n",
       "\n",
       "    .dataframe tbody tr th {\n",
       "        vertical-align: top;\n",
       "    }\n",
       "\n",
       "    .dataframe thead th {\n",
       "        text-align: right;\n",
       "    }\n",
       "</style>\n",
       "<table border=\"1\" class=\"dataframe\">\n",
       "  <thead>\n",
       "    <tr style=\"text-align: right;\">\n",
       "      <th></th>\n",
       "      <th>Z_SCORE</th>\n",
       "      <th>COUNT</th>\n",
       "    </tr>\n",
       "  </thead>\n",
       "  <tbody>\n",
       "    <tr>\n",
       "      <th>0</th>\n",
       "      <td>5</td>\n",
       "      <td>316</td>\n",
       "    </tr>\n",
       "    <tr>\n",
       "      <th>1</th>\n",
       "      <td>-2</td>\n",
       "      <td>7</td>\n",
       "    </tr>\n",
       "    <tr>\n",
       "      <th>2</th>\n",
       "      <td>1</td>\n",
       "      <td>5</td>\n",
       "    </tr>\n",
       "    <tr>\n",
       "      <th>3</th>\n",
       "      <td>2</td>\n",
       "      <td>1</td>\n",
       "    </tr>\n",
       "  </tbody>\n",
       "</table>\n",
       "</div>"
      ],
      "text/plain": [
       "   Z_SCORE  COUNT\n",
       "0        5    316\n",
       "1       -2      7\n",
       "2        1      5\n",
       "3        2      1"
      ]
     },
     "execution_count": 27,
     "metadata": {},
     "output_type": "execute_result"
    }
   ],
   "source": [
    "#Create new dataframe\n",
    "weight = huruma['Z_SCORE'].value_counts().rename_axis('Z_SCORE').reset_index(name = 'COUNT')\n",
    "weight.head()"
   ]
  },
  {
   "cell_type": "code",
   "execution_count": 28,
   "id": "75abd433",
   "metadata": {},
   "outputs": [],
   "source": [
    "#Set the labels and values so as to plot a pie chart\n",
    "labelss = weight.Z_SCORE\n",
    "valuess = weight.COUNT"
   ]
  },
  {
   "cell_type": "code",
   "execution_count": 32,
   "id": "53606ade",
   "metadata": {},
   "outputs": [
    {
     "data": {
      "image/png": "[encoded data removed]",
      "text/plain": [
       "<Figure size 432x288 with 1 Axes>"
      ]
     },
     "metadata": {},
     "output_type": "display_data"
    }
   ],
   "source": [
    "#visualize the pie chart\n",
    "fig = plt.figure()\n",
    "ax = fig.add_axes([0,0,1,1])\n",
    "ax.axis('equal')\n",
    "\n",
    "ax.pie(valuess, labels = labelss, autopct = '%1.2f%%')\n",
    "plt.title(\"Percentage of the weight of children\")\n",
    "plt.show()"
   ]
  },
  {
   "cell_type": "markdown",
   "id": "6724020e",
   "metadata": {},
   "source": [
    "From the pie chart it can be seen that the percentage of kids that were underweight were 2.13%"
   ]
  },
  {
   "cell_type": "code",
   "execution_count": 13,
   "id": "dd7d2311",
   "metadata": {},
   "outputs": [
    {
     "data": {
      "text/html": [
       "<div>\n",
       "<style scoped>\n",
       "    .dataframe tbody tr th:only-of-type {\n",
       "        vertical-align: middle;\n",
       "    }\n",
       "\n",
       "    .dataframe tbody tr th {\n",
       "        vertical-align: top;\n",
       "    }\n",
       "\n",
       "    .dataframe thead th {\n",
       "        text-align: right;\n",
       "    }\n",
       "</style>\n",
       "<table border=\"1\" class=\"dataframe\">\n",
       "  <thead>\n",
       "    <tr style=\"text-align: right;\">\n",
       "      <th></th>\n",
       "      <th>NAME</th>\n",
       "      <th>AGE</th>\n",
       "      <th>SEX</th>\n",
       "      <th>WEIGHT</th>\n",
       "      <th>Z SCORE</th>\n",
       "      <th>HEIGHT</th>\n",
       "      <th>Z SCORE.1</th>\n",
       "      <th>MUAC</th>\n",
       "    </tr>\n",
       "  </thead>\n",
       "  <tbody>\n",
       "    <tr>\n",
       "      <th>9</th>\n",
       "      <td>B.O</td>\n",
       "      <td>0.83</td>\n",
       "      <td>M</td>\n",
       "      <td>6.8</td>\n",
       "      <td>-2</td>\n",
       "      <td>75.6</td>\n",
       "      <td>3</td>\n",
       "      <td>12.6</td>\n",
       "    </tr>\n",
       "    <tr>\n",
       "      <th>15</th>\n",
       "      <td>E.M</td>\n",
       "      <td>0.92</td>\n",
       "      <td>M</td>\n",
       "      <td>8.8</td>\n",
       "      <td>-2</td>\n",
       "      <td>83.0</td>\n",
       "      <td>3</td>\n",
       "      <td>12.7</td>\n",
       "    </tr>\n",
       "    <tr>\n",
       "      <th>23</th>\n",
       "      <td>L.H</td>\n",
       "      <td>2.00</td>\n",
       "      <td>M</td>\n",
       "      <td>9.6</td>\n",
       "      <td>-2</td>\n",
       "      <td>87.0</td>\n",
       "      <td>3</td>\n",
       "      <td>17.0</td>\n",
       "    </tr>\n",
       "    <tr>\n",
       "      <th>41</th>\n",
       "      <td>A.S</td>\n",
       "      <td>1.50</td>\n",
       "      <td>M</td>\n",
       "      <td>8.0</td>\n",
       "      <td>-2</td>\n",
       "      <td>76.0</td>\n",
       "      <td>-2</td>\n",
       "      <td>16.5</td>\n",
       "    </tr>\n",
       "    <tr>\n",
       "      <th>48</th>\n",
       "      <td>S.F</td>\n",
       "      <td>0.75</td>\n",
       "      <td>F</td>\n",
       "      <td>6.4</td>\n",
       "      <td>-2</td>\n",
       "      <td>68.5</td>\n",
       "      <td>3</td>\n",
       "      <td>15.0</td>\n",
       "    </tr>\n",
       "    <tr>\n",
       "      <th>148</th>\n",
       "      <td>P.C</td>\n",
       "      <td>0.83</td>\n",
       "      <td>F</td>\n",
       "      <td>7.1</td>\n",
       "      <td>-2</td>\n",
       "      <td>72.6</td>\n",
       "      <td>3</td>\n",
       "      <td>15.8</td>\n",
       "    </tr>\n",
       "    <tr>\n",
       "      <th>323</th>\n",
       "      <td>K.W</td>\n",
       "      <td>0.83</td>\n",
       "      <td>F</td>\n",
       "      <td>6.9</td>\n",
       "      <td>-2</td>\n",
       "      <td>71.0</td>\n",
       "      <td>3</td>\n",
       "      <td>15.3</td>\n",
       "    </tr>\n",
       "  </tbody>\n",
       "</table>\n",
       "</div>"
      ],
      "text/plain": [
       "    NAME   AGE SEX  WEIGHT  Z SCORE  HEIGHT  Z SCORE.1  MUAC\n",
       "9    B.O  0.83   M     6.8       -2    75.6          3  12.6\n",
       "15   E.M  0.92   M     8.8       -2    83.0          3  12.7\n",
       "23   L.H  2.00   M     9.6       -2    87.0          3  17.0\n",
       "41   A.S  1.50   M     8.0       -2    76.0         -2  16.5\n",
       "48   S.F  0.75   F     6.4       -2    68.5          3  15.0\n",
       "148  P.C  0.83   F     7.1       -2    72.6          3  15.8\n",
       "323  K.W  0.83   F     6.9       -2    71.0          3  15.3"
      ]
     },
     "execution_count": 13,
     "metadata": {},
     "output_type": "execute_result"
    }
   ],
   "source": [
    "#Insert the rows in which the weight value is negative\n",
    "huruma_sub = huruma[huruma['Z SCORE'] < 1]\n",
    "huruma_sub"
   ]
  },
  {
   "cell_type": "code",
   "execution_count": 14,
   "id": "5dbc9509",
   "metadata": {},
   "outputs": [
    {
     "data": {
      "text/html": [
       "<div>\n",
       "<style scoped>\n",
       "    .dataframe tbody tr th:only-of-type {\n",
       "        vertical-align: middle;\n",
       "    }\n",
       "\n",
       "    .dataframe tbody tr th {\n",
       "        vertical-align: top;\n",
       "    }\n",
       "\n",
       "    .dataframe thead th {\n",
       "        text-align: right;\n",
       "    }\n",
       "</style>\n",
       "<table border=\"1\" class=\"dataframe\">\n",
       "  <thead>\n",
       "    <tr style=\"text-align: right;\">\n",
       "      <th></th>\n",
       "      <th>SEX</th>\n",
       "      <th>COUNT</th>\n",
       "    </tr>\n",
       "  </thead>\n",
       "  <tbody>\n",
       "    <tr>\n",
       "      <th>0</th>\n",
       "      <td>M</td>\n",
       "      <td>4</td>\n",
       "    </tr>\n",
       "    <tr>\n",
       "      <th>1</th>\n",
       "      <td>F</td>\n",
       "      <td>3</td>\n",
       "    </tr>\n",
       "  </tbody>\n",
       "</table>\n",
       "</div>"
      ],
      "text/plain": [
       "  SEX  COUNT\n",
       "0   M      4\n",
       "1   F      3"
      ]
     },
     "execution_count": 14,
     "metadata": {},
     "output_type": "execute_result"
    }
   ],
   "source": [
    "#Create new dataframe\n",
    "weight = huruma_sub['SEX'].value_counts().rename_axis('SEX').reset_index(name = 'COUNT')\n",
    "weight.head(7)"
   ]
  },
  {
   "cell_type": "code",
   "execution_count": 15,
   "id": "5128e831",
   "metadata": {},
   "outputs": [],
   "source": [
    "#Set the labels and values so as to plot a pie chart\n",
    "labels = weight.SEX\n",
    "values = weight.COUNT"
   ]
  },
  {
   "cell_type": "code",
   "execution_count": 31,
   "id": "c7f37246",
   "metadata": {},
   "outputs": [
    {
     "data": {
      "image/png": "[encoded data removed]",
      "text/plain": [
       "<Figure size 432x288 with 1 Axes>"
      ]
     },
     "metadata": {},
     "output_type": "display_data"
    }
   ],
   "source": [
    "#visualize the pie chart\n",
    "fig = plt.figure()\n",
    "ax = fig.add_axes([0,0,1,1])\n",
    "ax.axis('equal')\n",
    "\n",
    "ax.pie(values, labels = labels, autopct = '%1.2f%%')\n",
    "plt.title(\"Percentage of the sex of the children thet were underweight\")\n",
    "plt.show()"
   ]
  },
  {
   "cell_type": "markdown",
   "id": "5587c951",
   "metadata": {},
   "source": [
    "Of the 7 children that are underweight, 4 of them are males representing 57.14% while 3 of them are females, representing 42.86%"
   ]
  },
  {
   "cell_type": "code",
   "execution_count": null,
   "id": "26a8e58e",
   "metadata": {},
   "outputs": [],
   "source": []
  }
 ],
 "metadata": {
  "kernelspec": {
   "display_name": "Python 3",
   "language": "python",
   "name": "python3"
  },
  "language_info": {
   "codemirror_mode": {
    "name": "ipython",
    "version": 3
   },
   "file_extension": ".py",
   "mimetype": "text/x-python",
   "name": "python",
   "nbconvert_exporter": "python",
   "pygments_lexer": "ipython3",
   "version": "3.8.8"
  }
 },
 "nbformat": 4,
 "nbformat_minor": 5
}
