{
 "cells": [
  {
   "cell_type": "code",
   "execution_count": 30,
   "id": "aa4a7ba1",
   "metadata": {},
   "outputs": [],
   "source": [
    "import pandas as pd\n",
    "import numpy as np\n",
    "import seaborn as sns\n",
    "import matplotlib.pyplot as plt"
   ]
  },
  {
   "cell_type": "code",
   "execution_count": 31,
   "id": "5d1befb7",
   "metadata": {},
   "outputs": [
    {
     "data": {
      "text/html": [
       "<div>\n",
       "<style scoped>\n",
       "    .dataframe tbody tr th:only-of-type {\n",
       "        vertical-align: middle;\n",
       "    }\n",
       "\n",
       "    .dataframe tbody tr th {\n",
       "        vertical-align: top;\n",
       "    }\n",
       "\n",
       "    .dataframe thead th {\n",
       "        text-align: right;\n",
       "    }\n",
       "</style>\n",
       "<table border=\"1\" class=\"dataframe\">\n",
       "  <thead>\n",
       "    <tr style=\"text-align: right;\">\n",
       "      <th></th>\n",
       "      <th>NAME</th>\n",
       "      <th>AGE</th>\n",
       "      <th>SEX</th>\n",
       "      <th>WEIGHT</th>\n",
       "      <th>Z_SCORE</th>\n",
       "      <th>HEIGHT</th>\n",
       "      <th>Z_SCORE_1</th>\n",
       "      <th>MUAC</th>\n",
       "    </tr>\n",
       "  </thead>\n",
       "  <tbody>\n",
       "    <tr>\n",
       "      <th>0</th>\n",
       "      <td>Q.P</td>\n",
       "      <td>0.30</td>\n",
       "      <td>M</td>\n",
       "      <td>6.6</td>\n",
       "      <td>5</td>\n",
       "      <td>61.5</td>\n",
       "      <td>3</td>\n",
       "      <td>13.6</td>\n",
       "    </tr>\n",
       "    <tr>\n",
       "      <th>1</th>\n",
       "      <td>J.M</td>\n",
       "      <td>0.30</td>\n",
       "      <td>M</td>\n",
       "      <td>7.9</td>\n",
       "      <td>5</td>\n",
       "      <td>64.0</td>\n",
       "      <td>3</td>\n",
       "      <td>13.7</td>\n",
       "    </tr>\n",
       "    <tr>\n",
       "      <th>2</th>\n",
       "      <td>E.N</td>\n",
       "      <td>0.50</td>\n",
       "      <td>F</td>\n",
       "      <td>6.3</td>\n",
       "      <td>5</td>\n",
       "      <td>62.3</td>\n",
       "      <td>1</td>\n",
       "      <td>14.1</td>\n",
       "    </tr>\n",
       "    <tr>\n",
       "      <th>3</th>\n",
       "      <td>P.A</td>\n",
       "      <td>0.75</td>\n",
       "      <td>F</td>\n",
       "      <td>7.7</td>\n",
       "      <td>5</td>\n",
       "      <td>63.2</td>\n",
       "      <td>3</td>\n",
       "      <td>15.2</td>\n",
       "    </tr>\n",
       "    <tr>\n",
       "      <th>4</th>\n",
       "      <td>D.F</td>\n",
       "      <td>0.25</td>\n",
       "      <td>M</td>\n",
       "      <td>6.8</td>\n",
       "      <td>5</td>\n",
       "      <td>61.3</td>\n",
       "      <td>3</td>\n",
       "      <td>13.5</td>\n",
       "    </tr>\n",
       "  </tbody>\n",
       "</table>\n",
       "</div>"
      ],
      "text/plain": [
       "  NAME   AGE SEX  WEIGHT  Z_SCORE  HEIGHT  Z_SCORE_1  MUAC\n",
       "0  Q.P  0.30   M     6.6        5    61.5          3  13.6\n",
       "1  J.M  0.30   M     7.9        5    64.0          3  13.7\n",
       "2  E.N  0.50   F     6.3        5    62.3          1  14.1\n",
       "3  P.A  0.75   F     7.7        5    63.2          3  15.2\n",
       "4  D.F  0.25   M     6.8        5    61.3          3  13.5"
      ]
     },
     "execution_count": 31,
     "metadata": {},
     "output_type": "execute_result"
    }
   ],
   "source": [
    "#Let us load our data\n",
    "huruma = pd.read_excel(\"D:/Kipchumba/Book1.xlssss.xlsx\")\n",
    "\n",
    "#Viewing our data\n",
    "huruma.head()"
   ]
  },
  {
   "cell_type": "markdown",
   "id": "2329a855",
   "metadata": {},
   "source": [
    "Assess Data"
   ]
  },
  {
   "cell_type": "code",
   "execution_count": 32,
   "id": "43d285e0",
   "metadata": {},
   "outputs": [
    {
     "data": {
      "text/html": [
       "<div>\n",
       "<style scoped>\n",
       "    .dataframe tbody tr th:only-of-type {\n",
       "        vertical-align: middle;\n",
       "    }\n",
       "\n",
       "    .dataframe tbody tr th {\n",
       "        vertical-align: top;\n",
       "    }\n",
       "\n",
       "    .dataframe thead th {\n",
       "        text-align: right;\n",
       "    }\n",
       "</style>\n",
       "<table border=\"1\" class=\"dataframe\">\n",
       "  <thead>\n",
       "    <tr style=\"text-align: right;\">\n",
       "      <th></th>\n",
       "      <th>Z_SCORE_1</th>\n",
       "      <th>COUNT</th>\n",
       "    </tr>\n",
       "  </thead>\n",
       "  <tbody>\n",
       "    <tr>\n",
       "      <th>0</th>\n",
       "      <td>3</td>\n",
       "      <td>296</td>\n",
       "    </tr>\n",
       "    <tr>\n",
       "      <th>1</th>\n",
       "      <td>-2</td>\n",
       "      <td>14</td>\n",
       "    </tr>\n",
       "    <tr>\n",
       "      <th>2</th>\n",
       "      <td>-3</td>\n",
       "      <td>11</td>\n",
       "    </tr>\n",
       "    <tr>\n",
       "      <th>3</th>\n",
       "      <td>-1</td>\n",
       "      <td>5</td>\n",
       "    </tr>\n",
       "    <tr>\n",
       "      <th>4</th>\n",
       "      <td>1</td>\n",
       "      <td>2</td>\n",
       "    </tr>\n",
       "  </tbody>\n",
       "</table>\n",
       "</div>"
      ],
      "text/plain": [
       "   Z_SCORE_1  COUNT\n",
       "0          3    296\n",
       "1         -2     14\n",
       "2         -3     11\n",
       "3         -1      5\n",
       "4          1      2"
      ]
     },
     "execution_count": 32,
     "metadata": {},
     "output_type": "execute_result"
    }
   ],
   "source": [
    "height = huruma['Z_SCORE_1'].value_counts().rename_axis('Z_SCORE_1').reset_index(name = 'COUNT')\n",
    "height.head()"
   ]
  },
  {
   "cell_type": "code",
   "execution_count": 34,
   "id": "0c12923e",
   "metadata": {},
   "outputs": [],
   "source": [
    "#Set the labels and values so as to plot a pie chart\n",
    "labels = height.Z_SCORE_1\n",
    "values = height.COUNT"
   ]
  },
  {
   "cell_type": "code",
   "execution_count": 37,
   "id": "dfdc9af2",
   "metadata": {},
   "outputs": [
    {
     "data": {
      "image/png": "[encoded data removed]",
      "text/plain": [
       "<Figure size 432x288 with 1 Axes>"
      ]
     },
     "metadata": {},
     "output_type": "display_data"
    }
   ],
   "source": [
    "#visualize the pie chart\n",
    "fig = plt.figure()\n",
    "ax = fig.add_axes([0,0,1,1])\n",
    "ax.axis('equal')\n",
    "\n",
    "ax.pie(values, labels = labels, autopct = '%1.2f%%')\n",
    "plt.title(\"Percentage of growth of children\")\n",
    "plt.show()"
   ]
  },
  {
   "cell_type": "markdown",
   "id": "ed3e7ca0",
   "metadata": {},
   "source": [
    "Of all the children, (4.26 + 3.34 + 1.52 + 0.02) = 9.14% had stunted growth"
   ]
  },
  {
   "cell_type": "code",
   "execution_count": 39,
   "id": "f17c5861",
   "metadata": {},
   "outputs": [
    {
     "data": {
      "text/plain": [
       "30"
      ]
     },
     "execution_count": 39,
     "metadata": {},
     "output_type": "execute_result"
    }
   ],
   "source": [
    "#Determine the patients with stunted growth\n",
    "huruma_sub = huruma[huruma['Z_SCORE_1'] < 1]\n",
    "huruma_sub.value_counts().sum()"
   ]
  },
  {
   "cell_type": "markdown",
   "id": "6bca04c9",
   "metadata": {},
   "source": [
    "30 patients had stunted growth"
   ]
  },
  {
   "cell_type": "code",
   "execution_count": 48,
   "id": "121c7538",
   "metadata": {},
   "outputs": [
    {
     "data": {
      "text/html": [
       "<div>\n",
       "<style scoped>\n",
       "    .dataframe tbody tr th:only-of-type {\n",
       "        vertical-align: middle;\n",
       "    }\n",
       "\n",
       "    .dataframe tbody tr th {\n",
       "        vertical-align: top;\n",
       "    }\n",
       "\n",
       "    .dataframe thead th {\n",
       "        text-align: right;\n",
       "    }\n",
       "</style>\n",
       "<table border=\"1\" class=\"dataframe\">\n",
       "  <thead>\n",
       "    <tr style=\"text-align: right;\">\n",
       "      <th></th>\n",
       "      <th>SEX</th>\n",
       "      <th>COUNT</th>\n",
       "    </tr>\n",
       "  </thead>\n",
       "  <tbody>\n",
       "    <tr>\n",
       "      <th>0</th>\n",
       "      <td>M</td>\n",
       "      <td>22</td>\n",
       "    </tr>\n",
       "    <tr>\n",
       "      <th>1</th>\n",
       "      <td>F</td>\n",
       "      <td>8</td>\n",
       "    </tr>\n",
       "  </tbody>\n",
       "</table>\n",
       "</div>"
      ],
      "text/plain": [
       "  SEX  COUNT\n",
       "0   M     22\n",
       "1   F      8"
      ]
     },
     "execution_count": 48,
     "metadata": {},
     "output_type": "execute_result"
    }
   ],
   "source": [
    "huruma_subb = huruma_sub['SEX'].value_counts().rename_axis('SEX').reset_index(name = 'COUNT')\n",
    "huruma_subb.head()"
   ]
  },
  {
   "cell_type": "markdown",
   "id": "bfe0fa72",
   "metadata": {},
   "source": [
    "Of the 30 stunted children, 22 are males while 8 are females"
   ]
  },
  {
   "cell_type": "code",
   "execution_count": 49,
   "id": "abba9bfb",
   "metadata": {},
   "outputs": [],
   "source": [
    "#Set the labels and values so as to plot a pie chart\n",
    "labelss = huruma_subb.SEX\n",
    "valuess = huruma_subb.COUNT"
   ]
  },
  {
   "cell_type": "code",
   "execution_count": 52,
   "id": "2f6cbb97",
   "metadata": {},
   "outputs": [
    {
     "data": {
      "image/png": "[encoded data removed]",
      "text/plain": [
       "<Figure size 432x288 with 1 Axes>"
      ]
     },
     "metadata": {},
     "output_type": "display_data"
    }
   ],
   "source": [
    "#visualize the pie chart\n",
    "fig = plt.figure()\n",
    "ax = fig.add_axes([0,0,1,1])\n",
    "ax.axis('equal')\n",
    "\n",
    "ax.pie(valuess, labels = labelss, autopct = '%1.2f%%')\n",
    "plt.title(\"Percentage of the sex of the stunted children\")\n",
    "plt.show()"
   ]
  },
  {
   "cell_type": "markdown",
   "id": "1ca7946a",
   "metadata": {},
   "source": [
    "Of the 30 children with stunted growth, 73,33% were males while 26.67% were females"
   ]
  },
  {
   "cell_type": "code",
   "execution_count": 11,
   "id": "03b3434e",
   "metadata": {},
   "outputs": [
    {
     "data": {
      "text/plain": [
       "Text(0, 0.5, 'Z SCORE.1')"
      ]
     },
     "execution_count": 11,
     "metadata": {},
     "output_type": "execute_result"
    },
    {
     "data": {
      "image/png": "[encoded data removed]",
      "text/plain": [
       "<Figure size 432x288 with 1 Axes>"
      ]
     },
     "metadata": {
      "needs_background": "light"
     },
     "output_type": "display_data"
    }
   ],
   "source": [
    "#Create a scatter plot\n",
    "x = huruma['NAME']\n",
    "y = huruma['Z SCORE.1']\n",
    "plt.scatter(x, y)\n",
    "plt.title(\"Relationship between height and names\")\n",
    "plt.xlabel(\"names\")\n",
    "plt.ylabel(\"Z SCORE.1\")"
   ]
  },
  {
   "cell_type": "markdown",
   "id": "825d8398",
   "metadata": {},
   "source": [
    "From the scatter plot it was seen that a total of 30 patients had stunted growth"
   ]
  },
  {
   "cell_type": "code",
   "execution_count": 12,
   "id": "26f38036",
   "metadata": {},
   "outputs": [
    {
     "name": "stdout",
     "output_type": "stream",
     "text": [
      "9.090909090909092 %\n"
     ]
    }
   ],
   "source": [
    "stunted_growth = 30\n",
    "total = 330\n",
    "percent = (stunted_growth/total)*100\n",
    "print(percent, \"%\")"
   ]
  },
  {
   "cell_type": "markdown",
   "id": "c3517083",
   "metadata": {},
   "source": [
    "Patients with stunted growth had a percentage of 9.09%"
   ]
  },
  {
   "cell_type": "code",
   "execution_count": 13,
   "id": "ee386561",
   "metadata": {},
   "outputs": [
    {
     "data": {
      "text/html": [
       "<div>\n",
       "<style scoped>\n",
       "    .dataframe tbody tr th:only-of-type {\n",
       "        vertical-align: middle;\n",
       "    }\n",
       "\n",
       "    .dataframe tbody tr th {\n",
       "        vertical-align: top;\n",
       "    }\n",
       "\n",
       "    .dataframe thead th {\n",
       "        text-align: right;\n",
       "    }\n",
       "</style>\n",
       "<table border=\"1\" class=\"dataframe\">\n",
       "  <thead>\n",
       "    <tr style=\"text-align: right;\">\n",
       "      <th></th>\n",
       "      <th>NAME</th>\n",
       "      <th>AGE</th>\n",
       "      <th>SEX</th>\n",
       "      <th>WEIGHT</th>\n",
       "      <th>Z SCORE</th>\n",
       "      <th>HEIGHT</th>\n",
       "      <th>Z SCORE.1</th>\n",
       "      <th>MUAC</th>\n",
       "    </tr>\n",
       "  </thead>\n",
       "  <tbody>\n",
       "    <tr>\n",
       "      <th>0</th>\n",
       "      <td>Q.P</td>\n",
       "      <td>0.30</td>\n",
       "      <td>1</td>\n",
       "      <td>6.6</td>\n",
       "      <td>5</td>\n",
       "      <td>61.5</td>\n",
       "      <td>3</td>\n",
       "      <td>13.6</td>\n",
       "    </tr>\n",
       "    <tr>\n",
       "      <th>1</th>\n",
       "      <td>J.M</td>\n",
       "      <td>0.30</td>\n",
       "      <td>1</td>\n",
       "      <td>7.9</td>\n",
       "      <td>5</td>\n",
       "      <td>64.0</td>\n",
       "      <td>3</td>\n",
       "      <td>13.7</td>\n",
       "    </tr>\n",
       "    <tr>\n",
       "      <th>2</th>\n",
       "      <td>E.N</td>\n",
       "      <td>0.50</td>\n",
       "      <td>0</td>\n",
       "      <td>6.3</td>\n",
       "      <td>5</td>\n",
       "      <td>62.3</td>\n",
       "      <td>1</td>\n",
       "      <td>14.1</td>\n",
       "    </tr>\n",
       "    <tr>\n",
       "      <th>3</th>\n",
       "      <td>P.A</td>\n",
       "      <td>0.75</td>\n",
       "      <td>0</td>\n",
       "      <td>7.7</td>\n",
       "      <td>5</td>\n",
       "      <td>63.2</td>\n",
       "      <td>3</td>\n",
       "      <td>15.2</td>\n",
       "    </tr>\n",
       "    <tr>\n",
       "      <th>4</th>\n",
       "      <td>D.F</td>\n",
       "      <td>0.25</td>\n",
       "      <td>1</td>\n",
       "      <td>6.8</td>\n",
       "      <td>5</td>\n",
       "      <td>61.3</td>\n",
       "      <td>3</td>\n",
       "      <td>13.5</td>\n",
       "    </tr>\n",
       "  </tbody>\n",
       "</table>\n",
       "</div>"
      ],
      "text/plain": [
       "  NAME   AGE SEX  WEIGHT  Z SCORE  HEIGHT  Z SCORE.1  MUAC\n",
       "0  Q.P  0.30   1     6.6        5    61.5          3  13.6\n",
       "1  J.M  0.30   1     7.9        5    64.0          3  13.7\n",
       "2  E.N  0.50   0     6.3        5    62.3          1  14.1\n",
       "3  P.A  0.75   0     7.7        5    63.2          3  15.2\n",
       "4  D.F  0.25   1     6.8        5    61.3          3  13.5"
      ]
     },
     "execution_count": 13,
     "metadata": {},
     "output_type": "execute_result"
    }
   ],
   "source": [
    "#Converting the gender to numerical values to enable analysis\n",
    "#Convert gender to numerical\n",
    "mapping = {\n",
    "    'M' : 1,\n",
    "    'F' : 0,\n",
    "}\n",
    "huruma['SEX'] = huruma['SEX'].replace(mapping)\n",
    "huruma.head()"
   ]
  },
  {
   "cell_type": "code",
   "execution_count": 14,
   "id": "2fc1f4d7",
   "metadata": {},
   "outputs": [
    {
     "ename": "SyntaxError",
     "evalue": "invalid syntax (<ipython-input-14-75c339770789>, line 2)",
     "output_type": "error",
     "traceback": [
      "\u001b[1;36m  File \u001b[1;32m\"<ipython-input-14-75c339770789>\"\u001b[1;36m, line \u001b[1;32m2\u001b[0m\n\u001b[1;33m    males = huruma[huruma['SEX'] == 1 && huruma[huruma['Z SCORE.1'] < 1]\u001b[0m\n\u001b[1;37m                                       ^\u001b[0m\n\u001b[1;31mSyntaxError\u001b[0m\u001b[1;31m:\u001b[0m invalid syntax\n"
     ]
    }
   ],
   "source": [
    "#comparison of males and females with stunted growth\n",
    "males = huruma[huruma['SEX'] == 1 && huruma[huruma['Z SCORE.1'] < 1]\n",
    "females = huruma[huruma['SEX'] == 0 && huruma[huruma['Z SCORE.1'] < 1]\n",
    "plt.scatter(x, y)\n",
    "plt.title(\"Relationship between MUAC and names\")\n",
    "plt.xlabel(\"names\")\n",
    "plt.ylabel(\"MUAC\")"
   ]
  },
  {
   "cell_type": "code",
   "execution_count": null,
   "id": "819c7aa5",
   "metadata": {},
   "outputs": [],
   "source": []
  }
 ],
 "metadata": {
  "kernelspec": {
   "display_name": "Python 3",
   "language": "python",
   "name": "python3"
  },
  "language_info": {
   "codemirror_mode": {
    "name": "ipython",
    "version": 3
   },
   "file_extension": ".py",
   "mimetype": "text/x-python",
   "name": "python",
   "nbconvert_exporter": "python",
   "pygments_lexer": "ipython3",
   "version": "3.8.8"
  }
 },
 "nbformat": 4,
 "nbformat_minor": 5
}
