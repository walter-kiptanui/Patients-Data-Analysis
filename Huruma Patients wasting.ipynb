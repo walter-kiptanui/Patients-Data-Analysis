{
 "cells": [
  {
   "cell_type": "code",
   "execution_count": 29,
   "id": "81bd80a8",
   "metadata": {},
   "outputs": [],
   "source": [
    "import pandas as pd\n",
    "import numpy as np\n",
    "import seaborn as sns\n",
    "import matplotlib.pyplot as plt\n"
   ]
  },
  {
   "cell_type": "code",
   "execution_count": 32,
   "id": "e368d890",
   "metadata": {},
   "outputs": [
    {
     "data": {
      "text/html": [
       "<div>\n",
       "<style scoped>\n",
       "    .dataframe tbody tr th:only-of-type {\n",
       "        vertical-align: middle;\n",
       "    }\n",
       "\n",
       "    .dataframe tbody tr th {\n",
       "        vertical-align: top;\n",
       "    }\n",
       "\n",
       "    .dataframe thead th {\n",
       "        text-align: right;\n",
       "    }\n",
       "</style>\n",
       "<table border=\"1\" class=\"dataframe\">\n",
       "  <thead>\n",
       "    <tr style=\"text-align: right;\">\n",
       "      <th></th>\n",
       "      <th>NAME</th>\n",
       "      <th>AGE</th>\n",
       "      <th>SEX</th>\n",
       "      <th>WEIGHT</th>\n",
       "      <th>Z_SCORE</th>\n",
       "      <th>HEIGHT</th>\n",
       "      <th>Z_SCORE_1</th>\n",
       "      <th>MUAC</th>\n",
       "    </tr>\n",
       "  </thead>\n",
       "  <tbody>\n",
       "    <tr>\n",
       "      <th>0</th>\n",
       "      <td>Q.P</td>\n",
       "      <td>0.30</td>\n",
       "      <td>M</td>\n",
       "      <td>6.6</td>\n",
       "      <td>5</td>\n",
       "      <td>61.5</td>\n",
       "      <td>3</td>\n",
       "      <td>13.6</td>\n",
       "    </tr>\n",
       "    <tr>\n",
       "      <th>1</th>\n",
       "      <td>J.M</td>\n",
       "      <td>0.30</td>\n",
       "      <td>M</td>\n",
       "      <td>7.9</td>\n",
       "      <td>5</td>\n",
       "      <td>64.0</td>\n",
       "      <td>3</td>\n",
       "      <td>13.7</td>\n",
       "    </tr>\n",
       "    <tr>\n",
       "      <th>2</th>\n",
       "      <td>E.N</td>\n",
       "      <td>0.50</td>\n",
       "      <td>F</td>\n",
       "      <td>6.3</td>\n",
       "      <td>5</td>\n",
       "      <td>62.3</td>\n",
       "      <td>1</td>\n",
       "      <td>14.1</td>\n",
       "    </tr>\n",
       "    <tr>\n",
       "      <th>3</th>\n",
       "      <td>P.A</td>\n",
       "      <td>0.75</td>\n",
       "      <td>F</td>\n",
       "      <td>7.7</td>\n",
       "      <td>5</td>\n",
       "      <td>63.2</td>\n",
       "      <td>3</td>\n",
       "      <td>15.2</td>\n",
       "    </tr>\n",
       "    <tr>\n",
       "      <th>4</th>\n",
       "      <td>D.F</td>\n",
       "      <td>0.25</td>\n",
       "      <td>M</td>\n",
       "      <td>6.8</td>\n",
       "      <td>5</td>\n",
       "      <td>61.3</td>\n",
       "      <td>3</td>\n",
       "      <td>13.5</td>\n",
       "    </tr>\n",
       "    <tr>\n",
       "      <th>5</th>\n",
       "      <td>E.B</td>\n",
       "      <td>0.17</td>\n",
       "      <td>F</td>\n",
       "      <td>6.4</td>\n",
       "      <td>5</td>\n",
       "      <td>56.5</td>\n",
       "      <td>3</td>\n",
       "      <td>13.6</td>\n",
       "    </tr>\n",
       "    <tr>\n",
       "      <th>6</th>\n",
       "      <td>A.G</td>\n",
       "      <td>0.17</td>\n",
       "      <td>F</td>\n",
       "      <td>2.6</td>\n",
       "      <td>2</td>\n",
       "      <td>44.0</td>\n",
       "      <td>2</td>\n",
       "      <td>13.9</td>\n",
       "    </tr>\n",
       "  </tbody>\n",
       "</table>\n",
       "</div>"
      ],
      "text/plain": [
       "  NAME   AGE SEX  WEIGHT  Z_SCORE  HEIGHT  Z_SCORE_1  MUAC\n",
       "0  Q.P  0.30   M     6.6        5    61.5          3  13.6\n",
       "1  J.M  0.30   M     7.9        5    64.0          3  13.7\n",
       "2  E.N  0.50   F     6.3        5    62.3          1  14.1\n",
       "3  P.A  0.75   F     7.7        5    63.2          3  15.2\n",
       "4  D.F  0.25   M     6.8        5    61.3          3  13.5\n",
       "5  E.B  0.17   F     6.4        5    56.5          3  13.6\n",
       "6  A.G  0.17   F     2.6        2    44.0          2  13.9"
      ]
     },
     "execution_count": 32,
     "metadata": {},
     "output_type": "execute_result"
    }
   ],
   "source": [
    "#Let us load our data\n",
    "huruma = pd.read_excel(\"D:/Kipchumba/Book1.xlssss.xlsx\")\n",
    "\n",
    "#Viewing our data\n",
    "huruma.head(7)"
   ]
  },
  {
   "cell_type": "code",
   "execution_count": 31,
   "id": "b6b73874",
   "metadata": {},
   "outputs": [
    {
     "data": {
      "text/html": [
       "<div>\n",
       "<style scoped>\n",
       "    .dataframe tbody tr th:only-of-type {\n",
       "        vertical-align: middle;\n",
       "    }\n",
       "\n",
       "    .dataframe tbody tr th {\n",
       "        vertical-align: top;\n",
       "    }\n",
       "\n",
       "    .dataframe thead th {\n",
       "        text-align: right;\n",
       "    }\n",
       "</style>\n",
       "<table border=\"1\" class=\"dataframe\">\n",
       "  <thead>\n",
       "    <tr style=\"text-align: right;\">\n",
       "      <th></th>\n",
       "      <th>MUAC</th>\n",
       "      <th>COUNT</th>\n",
       "    </tr>\n",
       "  </thead>\n",
       "  <tbody>\n",
       "    <tr>\n",
       "      <th>0</th>\n",
       "      <td>14.1</td>\n",
       "      <td>23</td>\n",
       "    </tr>\n",
       "    <tr>\n",
       "      <th>1</th>\n",
       "      <td>15.8</td>\n",
       "      <td>18</td>\n",
       "    </tr>\n",
       "    <tr>\n",
       "      <th>2</th>\n",
       "      <td>14.3</td>\n",
       "      <td>17</td>\n",
       "    </tr>\n",
       "    <tr>\n",
       "      <th>3</th>\n",
       "      <td>13.9</td>\n",
       "      <td>16</td>\n",
       "    </tr>\n",
       "    <tr>\n",
       "      <th>4</th>\n",
       "      <td>13.7</td>\n",
       "      <td>15</td>\n",
       "    </tr>\n",
       "  </tbody>\n",
       "</table>\n",
       "</div>"
      ],
      "text/plain": [
       "   MUAC  COUNT\n",
       "0  14.1     23\n",
       "1  15.8     18\n",
       "2  14.3     17\n",
       "3  13.9     16\n",
       "4  13.7     15"
      ]
     },
     "execution_count": 31,
     "metadata": {},
     "output_type": "execute_result"
    }
   ],
   "source": [
    "muac = huruma['MUAC'].value_counts().rename_axis('MUAC').reset_index(name = 'COUNT')\n",
    "muac.head()"
   ]
  },
  {
   "cell_type": "code",
   "execution_count": 33,
   "id": "d69e44dd",
   "metadata": {},
   "outputs": [],
   "source": [
    "#Set the labels and values so as to plot a pie chart\n",
    "labels = muac.MUAC\n",
    "values = muac.COUNT"
   ]
  },
  {
   "cell_type": "code",
   "execution_count": 35,
   "id": "931a53cf",
   "metadata": {},
   "outputs": [
    {
     "data": {
      "image/png": "[encoded data removed]",
      "text/plain": [
       "<Figure size 432x288 with 1 Axes>"
      ]
     },
     "metadata": {},
     "output_type": "display_data"
    }
   ],
   "source": [
    "#visualize the pie chart\n",
    "fig = plt.figure()\n",
    "ax = fig.add_axes([0,0,1,1])\n",
    "ax.axis('equal')\n",
    "\n",
    "ax.pie(values, labels = labels, autopct = '%1.2f%%')\n",
    "plt.title(\"Percentage of wasting in children\")\n",
    "plt.show()"
   ]
  },
  {
   "cell_type": "code",
   "execution_count": null,
   "id": "bd95a580",
   "metadata": {},
   "outputs": [],
   "source": []
  },
  {
   "cell_type": "code",
   "execution_count": 36,
   "id": "415dee66",
   "metadata": {},
   "outputs": [
    {
     "data": {
      "text/html": [
       "<div>\n",
       "<style scoped>\n",
       "    .dataframe tbody tr th:only-of-type {\n",
       "        vertical-align: middle;\n",
       "    }\n",
       "\n",
       "    .dataframe tbody tr th {\n",
       "        vertical-align: top;\n",
       "    }\n",
       "\n",
       "    .dataframe thead th {\n",
       "        text-align: right;\n",
       "    }\n",
       "</style>\n",
       "<table border=\"1\" class=\"dataframe\">\n",
       "  <thead>\n",
       "    <tr style=\"text-align: right;\">\n",
       "      <th></th>\n",
       "      <th>NAME</th>\n",
       "      <th>AGE</th>\n",
       "      <th>SEX</th>\n",
       "      <th>WEIGHT</th>\n",
       "      <th>Z_SCORE</th>\n",
       "      <th>HEIGHT</th>\n",
       "      <th>Z_SCORE_1</th>\n",
       "      <th>MUAC</th>\n",
       "    </tr>\n",
       "  </thead>\n",
       "  <tbody>\n",
       "    <tr>\n",
       "      <th>9</th>\n",
       "      <td>B.O</td>\n",
       "      <td>0.83</td>\n",
       "      <td>M</td>\n",
       "      <td>6.8</td>\n",
       "      <td>-2</td>\n",
       "      <td>75.6</td>\n",
       "      <td>3</td>\n",
       "      <td>12.6</td>\n",
       "    </tr>\n",
       "    <tr>\n",
       "      <th>15</th>\n",
       "      <td>E.M</td>\n",
       "      <td>0.92</td>\n",
       "      <td>M</td>\n",
       "      <td>8.8</td>\n",
       "      <td>-2</td>\n",
       "      <td>83.0</td>\n",
       "      <td>3</td>\n",
       "      <td>12.7</td>\n",
       "    </tr>\n",
       "  </tbody>\n",
       "</table>\n",
       "</div>"
      ],
      "text/plain": [
       "   NAME   AGE SEX  WEIGHT  Z_SCORE  HEIGHT  Z_SCORE_1  MUAC\n",
       "9   B.O  0.83   M     6.8       -2    75.6          3  12.6\n",
       "15  E.M  0.92   M     8.8       -2    83.0          3  12.7"
      ]
     },
     "execution_count": 36,
     "metadata": {},
     "output_type": "execute_result"
    }
   ],
   "source": [
    "#determine the patients that were wasted\n",
    "huruma_sub = huruma[huruma['MUAC'] < 13.5]\n",
    "huruma_sub.head()"
   ]
  },
  {
   "cell_type": "markdown",
   "id": "f3634d6d",
   "metadata": {},
   "source": [
    "2 children were wasting"
   ]
  },
  {
   "cell_type": "code",
   "execution_count": 38,
   "id": "073ef6ea",
   "metadata": {},
   "outputs": [
    {
     "data": {
      "text/html": [
       "<div>\n",
       "<style scoped>\n",
       "    .dataframe tbody tr th:only-of-type {\n",
       "        vertical-align: middle;\n",
       "    }\n",
       "\n",
       "    .dataframe tbody tr th {\n",
       "        vertical-align: top;\n",
       "    }\n",
       "\n",
       "    .dataframe thead th {\n",
       "        text-align: right;\n",
       "    }\n",
       "</style>\n",
       "<table border=\"1\" class=\"dataframe\">\n",
       "  <thead>\n",
       "    <tr style=\"text-align: right;\">\n",
       "      <th></th>\n",
       "      <th>SEX</th>\n",
       "      <th>COUNT</th>\n",
       "    </tr>\n",
       "  </thead>\n",
       "  <tbody>\n",
       "    <tr>\n",
       "      <th>0</th>\n",
       "      <td>M</td>\n",
       "      <td>2</td>\n",
       "    </tr>\n",
       "  </tbody>\n",
       "</table>\n",
       "</div>"
      ],
      "text/plain": [
       "  SEX  COUNT\n",
       "0   M      2"
      ]
     },
     "execution_count": 38,
     "metadata": {},
     "output_type": "execute_result"
    }
   ],
   "source": [
    "muacc = huruma_sub['SEX'].value_counts().rename_axis('SEX').reset_index(name = 'COUNT')\n",
    "muacc.head()"
   ]
  },
  {
   "cell_type": "markdown",
   "id": "8b41fad0",
   "metadata": {},
   "source": [
    "Of the two kids that were wasting, all of them were males"
   ]
  },
  {
   "cell_type": "code",
   "execution_count": null,
   "id": "346c8f6f",
   "metadata": {},
   "outputs": [],
   "source": [
    "#Set the labels and values so as to plot a pie chart\n",
    "labels = muac.MUAC\n",
    "values = muac.COUNT"
   ]
  },
  {
   "cell_type": "code",
   "execution_count": null,
   "id": "d7a5914c",
   "metadata": {},
   "outputs": [],
   "source": [
    "It is observed that of all the undesired conditions seen in the children, males were the ones mostly affected"
   ]
  },
  {
   "cell_type": "markdown",
   "id": "d3a767ed",
   "metadata": {},
   "source": [
    "muac_value_counts = huruma['MUAC'].value_counts()\n",
    "muac_value_counts.plot(kind = 'barh')\n"
   ]
  },
  {
   "cell_type": "code",
   "execution_count": 23,
   "id": "c49cc3d1",
   "metadata": {},
   "outputs": [
    {
     "data": {
      "text/plain": [
       "<AxesSubplot:>"
      ]
     },
     "execution_count": 23,
     "metadata": {},
     "output_type": "execute_result"
    },
    {
     "data": {
      "image/png": "[encoded data removed]",
      "text/plain": [
       "<Figure size 432x288 with 1 Axes>"
      ]
     },
     "metadata": {
      "needs_background": "light"
     },
     "output_type": "display_data"
    }
   ],
   "source": [
    "huruma['MUAC'].hist()\n"
   ]
  },
  {
   "cell_type": "code",
   "execution_count": null,
   "id": "a981aaf4",
   "metadata": {},
   "outputs": [],
   "source": []
  }
 ],
 "metadata": {
  "kernelspec": {
   "display_name": "Python 3",
   "language": "python",
   "name": "python3"
  },
  "language_info": {
   "codemirror_mode": {
    "name": "ipython",
    "version": 3
   },
   "file_extension": ".py",
   "mimetype": "text/x-python",
   "name": "python",
   "nbconvert_exporter": "python",
   "pygments_lexer": "ipython3",
   "version": "3.8.8"
  }
 },
 "nbformat": 4,
 "nbformat_minor": 5
}
